{
 "cells": [
  {
   "cell_type": "markdown",
   "metadata": {},
   "source": [
    "## [T246439](https://phabricator.wikimedia.org/T246439) - High proportion of edit conflicts seem to come from new article creation\n",
    "Nearly a third of edit conflicts are recorded as happening during new article creation.  We need to investigate this, determine what exactly the user experiences, if anything."
   ]
  },
  {
   "cell_type": "code",
   "execution_count": 2,
   "metadata": {},
   "outputs": [
    {
     "data": {
      "text/plain": [
       "83309"
      ]
     },
     "execution_count": 2,
     "metadata": {},
     "output_type": "execute_result"
    }
   ],
   "source": [
    "conflicts = spark.read.parquet(\"/user/awight/edit-conflicts/conflict_rev_details\").cache()\n",
    "conflicts.count()"
   ]
  },
  {
   "cell_type": "code",
   "execution_count": 3,
   "metadata": {},
   "outputs": [],
   "source": [
    "from pyspark.sql.functions import col\n",
    "new_article = conflicts.filter(col(\"base_rev_id\") == 0)"
   ]
  },
  {
   "cell_type": "code",
   "execution_count": 9,
   "metadata": {},
   "outputs": [
    {
     "name": "stdout",
     "output_type": "stream",
     "text": [
      "+-------------------+-----------+--------------+----------------------------------------------------------------------+\n",
      "|conflict_timestamp |wiki       |page_namespace|page_title                                                            |\n",
      "+-------------------+-----------+--------------+----------------------------------------------------------------------+\n",
      "|2020-04-01 00:50:01|ptwiki     |14            |!Fantoches de Madragoama                                              |\n",
      "|2020-04-01 01:19:40|jawiki     |0             |ギャバード                                                            |\n",
      "|2020-04-01 01:20:20|commonswiki|14            |Portrait of a Woman by Jean-Baptiste Greuze – Wallace Collection      |\n",
      "|2020-04-01 01:59:12|arwiki     |14            |مؤرخون هنود في القرن 15                                               |\n",
      "|2020-04-01 04:36:05|zhwiki     |2             |AndyAndyAndyAlbert/沙盒/Q                                             |\n",
      "|2020-04-01 04:46:27|ptwiki     |14            |!Páginas a reciclar desde maio de 2010                                |\n",
      "|2020-04-01 04:47:31|ptwiki     |14            |!Páginas a reciclar desde setembro de 2010                            |\n",
      "|2020-04-01 04:50:51|ptwiki     |14            |!Páginas a reciclar desde Abril de 2016                               |\n",
      "|2020-04-01 04:54:07|ptwiki     |14            |!Páginas a reciclar desde Setembro de 2013                            |\n",
      "|2020-04-01 05:05:44|plwiki     |0             |Mistrzostwa Świata we Wspinaczce Sportowej 2019 – na szybkość mężczyzn|\n",
      "|2020-04-01 05:18:28|dewiki     |0             |Susanne Kschenka                                                      |\n",
      "|2020-04-01 05:22:50|dewiki     |0             |Susanne Seils                                                         |\n",
      "|2020-04-01 05:26:00|ruwiki     |0             |Аристово (озеро)                                                      |\n",
      "|2020-04-01 08:08:47|itwiki     |0             |Barbapapà (disambigua)                                                |\n",
      "|2020-04-01 08:33:30|commonswiki|14            |Timmarusu                                                             |\n",
      "+-------------------+-----------+--------------+----------------------------------------------------------------------+\n",
      "only showing top 15 rows\n",
      "\n"
     ]
    }
   ],
   "source": [
    "new_article\\\n",
    "    .select(\"conflict_timestamp\", \"wiki\", \"page_namespace\", \"page_title\")\\\n",
    "    .orderBy(\"conflict_timestamp\")\\\n",
    "    .show(15, truncate=False)"
   ]
  },
  {
   "cell_type": "markdown",
   "metadata": {},
   "source": [
    "These aren't popular pages, many were only ever edited once at timestamps exactly matching the conflicts above.  They happen in clusters around similar article titles, so it seems likely this is a small number of users who self-conflict for a technical reason like a rogue gadget or userscript."
   ]
  }
 ],
 "metadata": {
  "kernelspec": {
   "display_name": "PySpark - Local",
   "language": "python",
   "name": "spark_local_pyspark"
  },
  "language_info": {
   "codemirror_mode": {
    "name": "ipython",
    "version": 3
   },
   "file_extension": ".py",
   "mimetype": "text/x-python",
   "name": "python",
   "nbconvert_exporter": "python",
   "pygments_lexer": "ipython3",
   "version": "3.7.3"
  }
 },
 "nbformat": 4,
 "nbformat_minor": 4
}
