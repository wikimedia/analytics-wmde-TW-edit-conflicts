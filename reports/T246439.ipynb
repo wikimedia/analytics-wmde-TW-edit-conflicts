{
 "cells": [
  {
   "cell_type": "code",
   "execution_count": 2,
   "metadata": {},
   "outputs": [
    {
     "data": {
      "text/plain": [
       "5198"
      ]
     },
     "execution_count": 2,
     "metadata": {},
     "output_type": "execute_result"
    }
   ],
   "source": [
    "conflicts = spark.read.parquet(\"/tmp/awight/conflict_details\").cache()\n",
    "conflicts.count()"
   ]
  },
  {
   "cell_type": "code",
   "execution_count": 4,
   "metadata": {},
   "outputs": [],
   "source": [
    "from pyspark.sql.functions import col\n",
    "new_article = conflicts.filter(col(\"baseRevisionId\") == 0)"
   ]
  },
  {
   "cell_type": "code",
   "execution_count": 9,
   "metadata": {},
   "outputs": [
    {
     "name": "stdout",
     "output_type": "stream",
     "text": [
      "+-------------------+------+------------------------------------------------------------------------------------------------------------------------------------------------------------------------------------------------------------------------------------------------------------------------------------------------------------------------+\n",
      "|conflict_timestamp |wiki  |textbox                                                                                                                                                                                                                                                                                                                 |\n",
      "+-------------------+------+------------------------------------------------------------------------------------------------------------------------------------------------------------------------------------------------------------------------------------------------------------------------------------------------------------------------+\n",
      "|2020-02-22 06:51:41|enwiki|TRACK2RUN\n",
      "Tack2Run is India’s largest GPS tracking company. Founded in 2013 by Director Rahul Dhingra, Director Mahinder Ailawadi, Director Komal Pruthi, and CEO Harish Pruthi. This company sells GPS devices in all over India.                                                                                      |\n",
      "|2020-02-09 00:27:17|enwiki|{{MilHist|Weaponry=y |Russian=y|Cold-War= y}}                                                                                                                                                                                                                                                                           |\n",
      "|2020-02-09 00:29:36|enwiki|{{MilHist|Weaponry=y |French=y|Cold-War= y}}                                                                                                                                                                                                                                                                            |\n",
      "|2020-02-09 00:26:52|enwiki|{{MilHist|Weaponry=y |Russian=y|Cold-War= y}}                                                                                                                                                                                                                                                                           |\n",
      "|2020-02-11 07:26:38|enwiki|#REDIRECT [[Les+ Magazine]]                                                                                                                                                                                                                                                                                             |\n",
      "|2020-02-16 16:51:07|enwiki|Alumni of [[Francis Lewis High School]] in [[Fresh Meadows, Queens|Fresh Meadows]], [[Queens]], \n",
      "[[New York City|New York]].\n",
      "\n",
      "[[Category:Alumni by high school in Queens, New York]]                                                                                                                                    |\n",
      "|2020-02-16 16:06:33|enwiki|{{WikiProject banner shell|1= \n",
      "{{WikiProject Canada |class=  |importance=  |listas=  |needs-image= y}}\n",
      "{{WikiProject Women |class=  |needs-photo= y}}\n",
      "{{WikiProject Biography |class= |a&e-work-group=y |a&e-priority= |living=yes |listas=Roden, Barbara |needs-photo=y}}\n",
      "{{WikiProject Horror|class= }}\n",
      "}}\n",
      "{{WIR-155}}|\n",
      "|2020-02-05 21:02:15|enwiki|==February 2020==\n",
      "{{subst:Uw-advert2|Donaldson Brown}} ~~~~                                                                                                                                                                                                                                                             |\n",
      "|2020-02-15 03:10:21|enwiki|{{WikiProject banner shell|1=\n",
      "{{WikiProject Biography |living=yes |listas=Jeenbaeva, Baktygul|class=start}}\n",
      "{{WikiProject Kyrgyzstan |class=start |importance= |politics=yes}}\n",
      "{{WikiProject Women |class=start}}\n",
      "{{WikiProject Politics |class=start |importance=}}\n",
      "|blp=yes\n",
      "}}\n",
      "{{reqphoto|in=Kyrgyzstan}}             |\n",
      "|2020-02-15 17:41:49|enwiki|[[Category:VV Capelle]]                                                                                                                                                                                                                                                                                                 |\n",
      "|2020-02-12 16:56:00|enwiki|#REDIRECT [[Lheidli T'enneh Band]]                                                                                                                                                                                                                                                                                      |\n",
      "|2020-02-10 20:34:48|enwiki|#redirect[[Harlingen Capitals]]                                                                                                                                                                                                                                                                                         |\n",
      "|2020-02-18 19:07:30|enwiki|{{WikiProject Baseball}}                                                                                                                                                                                                                                                                                                |\n",
      "|2020-02-06 12:30:15|enwiki|{{WikiProject Sociology|class=}}\n",
      "{{WikiProject Culture|class=|importance=}}                                                                                                                                                                                                                                             |\n",
      "|2020-02-01 23:10:30|enwiki|{{WikiProject Volcanoes}}                                                                                                                                                                                                                                                                                               |\n",
      "+-------------------+------+------------------------------------------------------------------------------------------------------------------------------------------------------------------------------------------------------------------------------------------------------------------------------------------------------------------------+\n",
      "only showing top 15 rows\n",
      "\n"
     ]
    }
   ],
   "source": [
    "new_article.select(\"conflict_timestamp\", \"wiki\", \"textbox\").show(15, truncate=False)"
   ]
  },
  {
   "cell_type": "markdown",
   "metadata": {},
   "source": [
    "Well, that's too bad.  [This page](https://en.wikipedia.org/w/index.php?title=Category:Francis_Lewis_High_School_alumni&action=history) for example has not been popular in any way, was created and then never edited again, and the timestamp on its one revision is the same as that of the conflict above.  It seems likely that people are creating pages and getting the edit conflict dialog for technical reasons.\n",
    "\n",
    "TODO: Join against successful edit conflict resolutions.  We only have this data through StatsD, looks like we would need to instrument with more dimensions in order to do this."
   ]
  }
 ],
 "metadata": {
  "kernelspec": {
   "display_name": "PySpark - Local",
   "language": "python",
   "name": "spark_local_pyspark"
  },
  "language_info": {
   "codemirror_mode": {
    "name": "ipython",
    "version": 3
   },
   "file_extension": ".py",
   "mimetype": "text/x-python",
   "name": "python",
   "nbconvert_exporter": "python",
   "pygments_lexer": "ipython3",
   "version": "3.5.3"
  }
 },
 "nbformat": 4,
 "nbformat_minor": 2
}
