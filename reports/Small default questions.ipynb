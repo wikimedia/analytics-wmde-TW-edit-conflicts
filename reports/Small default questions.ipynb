{
 "cells": [
  {
   "cell_type": "markdown",
   "metadata": {},
   "source": [
    "Load processed conflict data for April 2020.  This includes the Schema:TwoColConflictConflict data joined with metadata about involved revisions."
   ]
  },
  {
   "cell_type": "code",
   "execution_count": 1,
   "metadata": {},
   "outputs": [
    {
     "data": {
      "text/plain": [
       "47786"
      ]
     },
     "execution_count": 1,
     "metadata": {},
     "output_type": "execute_result"
    }
   ],
   "source": [
    "conflicts = spark.read.parquet(\"/user/awight/edit-conflicts/conflict_rev_details\").cache()\n",
    "conflicts.count()"
   ]
  },
  {
   "cell_type": "code",
   "execution_count": 2,
   "metadata": {},
   "outputs": [
    {
     "name": "stdout",
     "output_type": "stream",
     "text": [
      "+-------------------+--------------+------------------------------------------------------+\n",
      "|conflict_timestamp |page_namespace|page_title                                            |\n",
      "+-------------------+--------------+------------------------------------------------------+\n",
      "|2020-04-30 23:59:57|1             |Somaliere i Norge                                     |\n",
      "|2020-04-30 23:59:07|0             |Mexborough                                            |\n",
      "|2020-04-30 23:53:54|3             |Люба КБ                                               |\n",
      "|2020-04-30 23:50:10|10            |Ballon d'Or recipients                                |\n",
      "|2020-04-30 23:46:46|0             |Evidence based assessment/Rx4DxTx of bipolar in youths|\n",
      "|2020-04-30 23:46:14|0             |List of Dog Man Episodes                              |\n",
      "|2020-04-30 23:46:12|0             |Farfarello                                            |\n",
      "|2020-04-30 23:46:05|0             |Farfarello                                            |\n",
      "|2020-04-30 23:45:49|4             |Redirects for discussion/Log/2020 April 28            |\n",
      "|2020-04-30 23:45:48|4             |Redirects for discussion/Log/2020 April 28            |\n",
      "+-------------------+--------------+------------------------------------------------------+\n",
      "only showing top 10 rows\n",
      "\n"
     ]
    }
   ],
   "source": [
    "conflicts.orderBy(\"conflict_timestamp\", ascending=False).select(\"conflict_timestamp\", \"page_namespace\", \"page_title\").show(10, False)"
   ]
  },
  {
   "cell_type": "markdown",
   "metadata": {},
   "source": [
    "Add some calculated columns:\n",
    "* `next_edit_delta`: Number of seconds elapsed between entering the conflict workflow and the next revision on an article.\n",
    "* `is_revolved`: True if a new revision is stored within 1 hour of entering the conflict workflow.  This is a crappy proxy for the actual success of the workflow.\n",
    "* `is_talk`: True if the article namespace was a talk page (odd namespace ID) or the project namespace (ID = 4).\n",
    "* `is_anon`: True when the user is anonymous."
   ]
  },
  {
   "cell_type": "code",
   "execution_count": 4,
   "metadata": {},
   "outputs": [],
   "source": [
    "import pandas as pd\n",
    "c = conflicts.toPandas()\n",
    "c['next_edit_delta'] = (c['next_timestamp'] - c['conflict_timestamp']) / pd.Timedelta(1, unit='s')\n",
    "c['is_resolved'] = c['next_rev_id'].ne(pd.NaT) & c['next_edit_delta'].lt(3600)\n",
    "c['is_talk'] = (c['page_namespace'].ne(0) & c['page_namespace'].mod(2).eq(1)) | c['page_namespace'].eq(4)\n",
    "c['is_anon'] = c['user_editcount'].eq(0)"
   ]
  },
  {
   "cell_type": "code",
   "execution_count": 5,
   "metadata": {},
   "outputs": [
    {
     "data": {
      "text/plain": [
       "is_talk  is_anon  is_twocol\n",
       "False    False    False        0.844103\n",
       "                  True         0.891847\n",
       "         True     False        0.706459\n",
       "                  True         0.685268\n",
       "True     False    False        0.927507\n",
       "                  True         0.973219\n",
       "         True     False        0.855937\n",
       "                  True         0.826531\n",
       "Name: is_resolved, dtype: float64"
      ]
     },
     "execution_count": 5,
     "metadata": {},
     "output_type": "execute_result"
    }
   ],
   "source": [
    "c.groupby(['is_talk', 'is_anon', 'is_twocol']).mean()['is_resolved']"
   ]
  },
  {
   "cell_type": "code",
   "execution_count": 6,
   "metadata": {},
   "outputs": [
    {
     "data": {
      "text/plain": [
       "is_talk  is_anon  is_twocol\n",
       "False    False    False        14067\n",
       "                  True          4244\n",
       "         True     False         9072\n",
       "                  True           448\n",
       "True     False    False        16443\n",
       "                  True          1755\n",
       "         True     False         1659\n",
       "                  True            98\n",
       "Name: is_resolved, dtype: int64"
      ]
     },
     "execution_count": 6,
     "metadata": {},
     "output_type": "execute_result"
    }
   ],
   "source": [
    "c.groupby(['is_talk', 'is_anon', 'is_twocol']).count()['is_resolved']"
   ]
  },
  {
   "cell_type": "code",
   "execution_count": 9,
   "metadata": {},
   "outputs": [
    {
     "data": {
      "text/plain": [
       "4972"
      ]
     },
     "execution_count": 9,
     "metadata": {},
     "output_type": "execute_result"
    }
   ],
   "source": [
    "# '2020-03-25 12:00:00' -> \n",
    "from pyspark.sql.functions import col, unix_timestamp\n",
    "dewiki_conflicts = conflicts.filter((col('wiki') == 'dewiki') & (unix_timestamp(col('conflict_timestamp'), \"yyyy-MM-dd HH:mm:ss\") > 1585137600))\n",
    "dewiki_conflicts.count()"
   ]
  },
  {
   "cell_type": "code",
   "execution_count": 11,
   "metadata": {},
   "outputs": [
    {
     "data": {
      "text/plain": [
       "is_talk  is_anon  is_twocol\n",
       "False    False    False        0.813333\n",
       "                  True         0.880803\n",
       "         True     True         0.718563\n",
       "True     False    False        0.958294\n",
       "                  True         0.980728\n",
       "         True     False        0.908784\n",
       "                  True         0.822917\n",
       "Name: is_resolved, dtype: float64"
      ]
     },
     "execution_count": 11,
     "metadata": {},
     "output_type": "execute_result"
    }
   ],
   "source": [
    "d = dewiki_conflicts.toPandas()\n",
    "d['next_edit_delta'] = (d['next_timestamp'] - d['conflict_timestamp']) / pd.Timedelta(1, unit='s')\n",
    "d['is_resolved'] = d['next_rev_id'].ne(pd.NaT) & d['next_edit_delta'].lt(3600)\n",
    "d['is_talk'] = (d['page_namespace'].ne(0) & d['page_namespace'].mod(2).eq(1)) | d['page_namespace'].eq(4)\n",
    "d['is_anon'] = d['user_editcount'].eq(0)\n",
    "d.groupby(['is_talk', 'is_anon', 'is_twocol']).mean()['is_resolved']"
   ]
  },
  {
   "cell_type": "code",
   "execution_count": 12,
   "metadata": {},
   "outputs": [
    {
     "data": {
      "text/plain": [
       "is_talk  is_anon  is_twocol\n",
       "False    False    False          75\n",
       "                  True         1594\n",
       "         True     True          334\n",
       "True     False    False        2110\n",
       "                  True          467\n",
       "         True     False         296\n",
       "                  True           96\n",
       "Name: is_resolved, dtype: int64"
      ]
     },
     "execution_count": 12,
     "metadata": {},
     "output_type": "execute_result"
    }
   ],
   "source": [
    "d.groupby(['is_talk', 'is_anon', 'is_twocol']).count()['is_resolved']"
   ]
  },
  {
   "cell_type": "code",
   "execution_count": 19,
   "metadata": {},
   "outputs": [
    {
     "data": {
      "text/plain": [
       "no_js\n",
       "False    0.377483\n",
       "True     0.484655\n",
       "Name: user_is_new, dtype: float64"
      ]
     },
     "execution_count": 19,
     "metadata": {},
     "output_type": "execute_result"
    }
   ],
   "source": [
    "c[\"user_is_new\"] = (c[\"user_editcount\"] < 100)\n",
    "c[\"no_js\"] = c[\"is_js\"] != True\n",
    "c.groupby(['no_js']).mean()['user_is_new']"
   ]
  },
  {
   "cell_type": "code",
   "execution_count": null,
   "metadata": {},
   "outputs": [],
   "source": []
  }
 ],
 "metadata": {
  "kernelspec": {
   "display_name": "PySpark - Local",
   "language": "python",
   "name": "spark_local_pyspark"
  },
  "language_info": {
   "codemirror_mode": {
    "name": "ipython",
    "version": 3
   },
   "file_extension": ".py",
   "mimetype": "text/x-python",
   "name": "python",
   "nbconvert_exporter": "python",
   "pygments_lexer": "ipython3",
   "version": "3.7.3"
  }
 },
 "nbformat": 4,
 "nbformat_minor": 4
}
