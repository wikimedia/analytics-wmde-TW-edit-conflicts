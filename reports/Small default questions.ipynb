{
 "cells": [
  {
   "cell_type": "markdown",
   "metadata": {},
   "source": [
    "Load processed conflict data for March 2020.  This includes the Schema:TwoColConflictConflict data joined with metadata about involved revisions."
   ]
  },
  {
   "cell_type": "code",
   "execution_count": 27,
   "metadata": {},
   "outputs": [
    {
     "data": {
      "text/plain": [
       "17669"
      ]
     },
     "execution_count": 27,
     "metadata": {},
     "output_type": "execute_result"
    }
   ],
   "source": [
    "conflicts = spark.read.parquet(\"/tmp/awight/conflict_details\").cache()\n",
    "conflicts.count()"
   ]
  },
  {
   "cell_type": "markdown",
   "metadata": {},
   "source": [
    "Remove the conflicts which we suspect are caused by MediaWiki glitches [T246439](https://phabricator.wikimedia.org/T246439) and [T246440](https://phabricator.wikimedia.org/T246440)."
   ]
  },
  {
   "cell_type": "code",
   "execution_count": 28,
   "metadata": {},
   "outputs": [
    {
     "data": {
      "text/plain": [
       "8875"
      ]
     },
     "execution_count": 28,
     "metadata": {},
     "output_type": "execute_result"
    }
   ],
   "source": [
    "from pyspark.sql.functions import col\n",
    "clean_conflicts = conflicts.filter(col(\"baseRevisionId\") != col(\"latestRevisionId\"))\n",
    "clean_conflicts.count()"
   ]
  },
  {
   "cell_type": "code",
   "execution_count": 34,
   "metadata": {},
   "outputs": [
    {
     "data": {
      "text/plain": [
       "8808"
      ]
     },
     "execution_count": 34,
     "metadata": {},
     "output_type": "execute_result"
    }
   ],
   "source": [
    "deduped_conflicts = clean_conflicts.dropDuplicates()\n",
    "deduped_conflicts.count()"
   ]
  },
  {
   "cell_type": "markdown",
   "metadata": {},
   "source": [
    "Nice to know that duplicates only account for 0.75% of our events.\n",
    "\n",
    "Add some calculated columns:\n",
    "* `next_edit_delta`: Number of seconds elapsed between entering the conflict workflow and the next revision on an article.\n",
    "* `is_revolved`: True if a new revision is stored within 1 hour of entering the conflict workflow.  This is a crappy proxy for the actual success of the workflow.\n",
    "* `is_talk`: True if the article namespace was a talk page (odd namespace ID) or the project namespace (ID = 4).\n",
    "* `is_anon`: True when the user is anonymous."
   ]
  },
  {
   "cell_type": "code",
   "execution_count": 39,
   "metadata": {},
   "outputs": [],
   "source": [
    "import pandas as pd\n",
    "c = clean_conflicts.toPandas()\n",
    "c['next_edit_delta'] = (c['next_timestamp'] - c['conflict_timestamp']) / pd.Timedelta(1, unit='s')\n",
    "c['is_resolved'] = c['next_rev_id'].ne(pd.NaT) & c['next_edit_delta'].lt(3600)\n",
    "c['is_talk'] = (c['page_namespace'].ne(0) & c['page_namespace'].mod(2).eq(1)) | c['page_namespace'].eq(4)\n",
    "c['is_anon'] = c['editCount'].eq(0)"
   ]
  },
  {
   "cell_type": "code",
   "execution_count": 44,
   "metadata": {},
   "outputs": [
    {
     "data": {
      "text/plain": [
       "is_talk  is_anon  twoColConflictShown\n",
       "False    False    False                  0.813333\n",
       "                  True                   0.878689\n",
       "         True     False                  0.688947\n",
       "                  True                   0.676471\n",
       "True     False    False                  0.922948\n",
       "                  True                   0.954965\n",
       "         True     False                  0.844920\n",
       "                  True                   0.944444\n",
       "Name: is_resolved, dtype: float64"
      ]
     },
     "execution_count": 44,
     "metadata": {},
     "output_type": "execute_result"
    }
   ],
   "source": [
    "c.groupby(['is_talk', 'is_anon', 'twoColConflictShown']).mean()['is_resolved']"
   ]
  },
  {
   "cell_type": "code",
   "execution_count": 46,
   "metadata": {},
   "outputs": [
    {
     "data": {
      "text/plain": [
       "is_talk  is_anon  twoColConflictShown\n",
       "False    False    False                  2925\n",
       "                  True                    915\n",
       "         True     False                  1900\n",
       "                  True                     68\n",
       "True     False    False                  1791\n",
       "                  True                    866\n",
       "         True     False                   374\n",
       "                  True                     36\n",
       "Name: is_resolved, dtype: int64"
      ]
     },
     "execution_count": 46,
     "metadata": {},
     "output_type": "execute_result"
    }
   ],
   "source": [
    "c.groupby(['is_talk', 'is_anon', 'twoColConflictShown']).count()['is_resolved']"
   ]
  },
  {
   "cell_type": "code",
   "execution_count": 63,
   "metadata": {},
   "outputs": [
    {
     "data": {
      "text/plain": [
       "853"
      ]
     },
     "execution_count": 63,
     "metadata": {},
     "output_type": "execute_result"
    }
   ],
   "source": [
    "# '2020-03-25 12:00:00' -> \n",
    "from pyspark.sql.functions import unix_timestamp\n",
    "dewiki_conflicts = clean_conflicts.filter((col('wiki') == 'dewiki') & (unix_timestamp(col('conflict_timestamp'), \"yyyy-MM-dd HH:mm:ss\") > 1585137600))\n",
    "dewiki_conflicts.count()"
   ]
  },
  {
   "cell_type": "code",
   "execution_count": 66,
   "metadata": {},
   "outputs": [
    {
     "data": {
      "text/plain": [
       "is_talk  is_anon  twoColConflictShown\n",
       "False    False    False                  0.750000\n",
       "                  True                   0.856354\n",
       "         True     True                   0.678571\n",
       "True     False    False                  1.000000\n",
       "                  True                   0.951220\n",
       "         True     True                   0.937500\n",
       "Name: is_resolved, dtype: float64"
      ]
     },
     "execution_count": 66,
     "metadata": {},
     "output_type": "execute_result"
    }
   ],
   "source": [
    "d = dewiki_conflicts.toPandas()\n",
    "d['next_edit_delta'] = (d['next_timestamp'] - d['conflict_timestamp']) / pd.Timedelta(1, unit='s')\n",
    "d['is_resolved'] = d['next_rev_id'].ne(pd.NaT) & d['next_edit_delta'].lt(3600)\n",
    "d['is_talk'] = (d['page_namespace'].ne(0) & d['page_namespace'].mod(2).eq(1)) | d['page_namespace'].eq(4)\n",
    "d['is_anon'] = d['editCount'].eq(0)\n",
    "d.groupby(['is_talk', 'is_anon', 'twoColConflictShown']).mean()['is_resolved']"
   ]
  },
  {
   "cell_type": "code",
   "execution_count": 67,
   "metadata": {},
   "outputs": [
    {
     "data": {
      "text/plain": [
       "is_talk  is_anon  twoColConflictShown\n",
       "False    False    False                    8\n",
       "                  True                   362\n",
       "         True     True                    56\n",
       "True     False    False                   26\n",
       "                  True                   369\n",
       "         True     True                    32\n",
       "Name: is_resolved, dtype: int64"
      ]
     },
     "execution_count": 67,
     "metadata": {},
     "output_type": "execute_result"
    }
   ],
   "source": [
    "d.groupby(['is_talk', 'is_anon', 'twoColConflictShown']).count()['is_resolved']"
   ]
  },
  {
   "cell_type": "code",
   "execution_count": 19,
   "metadata": {},
   "outputs": [
    {
     "data": {
      "text/plain": [
       "no_js\n",
       "False    0.377483\n",
       "True     0.484655\n",
       "Name: user_is_new, dtype: float64"
      ]
     },
     "execution_count": 19,
     "metadata": {},
     "output_type": "execute_result"
    }
   ],
   "source": [
    "c[\"user_is_new\"] = (c[\"user_editcount\"] < 100)\n",
    "c[\"no_js\"] = c[\"is_js\"] != True\n",
    "c.groupby(['no_js']).mean()['user_is_new']"
   ]
  },
  {
   "cell_type": "code",
   "execution_count": null,
   "metadata": {},
   "outputs": [],
   "source": []
  }
 ],
 "metadata": {
  "kernelspec": {
   "display_name": "PySpark - Local",
   "language": "python",
   "name": "spark_local_pyspark"
  },
  "language_info": {
   "codemirror_mode": {
    "name": "ipython",
    "version": 3
   },
   "file_extension": ".py",
   "mimetype": "text/x-python",
   "name": "python",
   "nbconvert_exporter": "python",
   "pygments_lexer": "ipython3",
   "version": "3.5.3"
  }
 },
 "nbformat": 4,
 "nbformat_minor": 2
}
