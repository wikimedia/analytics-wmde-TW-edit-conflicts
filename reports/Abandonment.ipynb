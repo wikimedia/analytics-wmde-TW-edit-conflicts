{
 "cells": [
  {
   "cell_type": "code",
   "execution_count": 2,
   "metadata": {},
   "outputs": [],
   "source": [
    "import org.apache.spark.sql.functions._"
   ]
  },
  {
   "cell_type": "code",
   "execution_count": 3,
   "metadata": {},
   "outputs": [
    {
     "data": {
      "text/plain": [
       "conflicts = [conflict_timestamp: timestamp, wiki: string ... 11 more fields]\n",
       "exits = [exit_timestamp: timestamp, start_time_ts_ms: bigint ... 6 more fields]\n",
       "linked_exits = [conflict_timestamp: timestamp, wiki: string ... 14 more fields]\n"
      ]
     },
     "metadata": {},
     "output_type": "display_data"
    },
    {
     "data": {
      "text/plain": [
       "[conflict_timestamp: timestamp, wiki: string ... 14 more fields]"
      ]
     },
     "execution_count": 3,
     "metadata": {},
     "output_type": "execute_result"
    }
   ],
   "source": [
    "val conflicts = spark.read.parquet(\"/tmp/awight/conflicts\").cache()\n",
    "val exits = spark.read.parquet(\"/tmp/awight/exits\").cache()\n",
    "val linked_exits = spark.read.parquet(\"/tmp/awight/linked_exits\").cache()"
   ]
  },
  {
   "cell_type": "code",
   "execution_count": 4,
   "metadata": {
    "scrolled": false
   },
   "outputs": [
    {
     "name": "stdout",
     "output_type": "stream",
     "text": [
      "+-----------+-----+-------+\n",
      "|exit_action|count|percent|\n",
      "+-----------+-----+-------+\n",
      "|     cancel|   36|    2.2|\n",
      "|    unknown|  888|   53.3|\n",
      "|       save|  742|   44.5|\n",
      "+-----------+-----+-------+\n",
      "\n"
     ]
    },
    {
     "data": {
      "text/plain": [
       "exit_counts = [exit_action: string, count: bigint]\n"
      ]
     },
     "metadata": {},
     "output_type": "display_data"
    },
    {
     "data": {
      "text/plain": [
       "[exit_action: string, count: bigint]"
      ]
     },
     "execution_count": 4,
     "metadata": {},
     "output_type": "execute_result"
    }
   ],
   "source": [
    "val exit_counts = linked_exits.groupBy(\"exit_action\").count()\n",
    "exit_counts\n",
    "  .groupBy(\"exit_action\")\n",
    "  .agg(sum(\"count\").alias(\"count\"))\n",
    "  .withColumn(\"percent\", round(lit(100) * $\"count\" /  sum(\"count\").over(), 1))\n",
    "  .show()"
   ]
  },
  {
   "cell_type": "code",
   "execution_count": 5,
   "metadata": {
    "scrolled": true
   },
   "outputs": [
    {
     "name": "stdout",
     "output_type": "stream",
     "text": [
      "+-------+-----------------+------------------+------------------+\n",
      "|summary|   user_editcount|   conflict_chunks|    conflict_chars|\n",
      "+-------+-----------------+------------------+------------------+\n",
      "|  count|              443|               443|               443|\n",
      "|   mean|27603.18284424379|1.5914221218961626| 964.8081264108353|\n",
      "| stddev|55763.25081415555|2.1213456222435263|1452.0718079693656|\n",
      "|    min|                0|                 1|                 0|\n",
      "|    max|           519415|                25|             14600|\n",
      "+-------+-----------------+------------------+------------------+\n",
      "\n",
      "+-----------+-----+-----------------------+----------------------+----------------------+---------------------+\n",
      "|exit_action|count|mean_overlapping_chunks|std_overlapping_chunks|mean_overlapping_chars|std_overlapping_chars|\n",
      "+-----------+-----+-----------------------+----------------------+----------------------+---------------------+\n",
      "|     cancel|   19|                    1.6|                   2.5|                 697.4|                559.7|\n",
      "|    unknown|  197|                    1.9|                   2.9|                1134.2|               1832.6|\n",
      "|       save|  227|                    1.3|                   1.0|                 840.1|               1067.5|\n",
      "+-----------+-----+-----------------------+----------------------+----------------------+---------------------+\n",
      "\n"
     ]
    },
    {
     "data": {
      "text/plain": [
       "with_chunks = [conflict_timestamp: timestamp, wiki: string ... 14 more fields]\n"
      ]
     },
     "metadata": {},
     "output_type": "display_data"
    },
    {
     "data": {
      "text/plain": [
       "[conflict_timestamp: timestamp, wiki: string ... 14 more fields]"
      ]
     },
     "execution_count": 5,
     "metadata": {},
     "output_type": "execute_result"
    }
   ],
   "source": [
    "val with_chunks = linked_exits.filter($\"conflict_chunks\" > 0)\n",
    "with_chunks.describe(\"user_editcount\", \"conflict_chunks\", \"conflict_chars\").show()\n",
    "with_chunks\n",
    "  .groupBy(\"exit_action\")\n",
    "  .agg(\n",
    "    count($\"*\").alias(\"count\"),\n",
    "    round(mean($\"conflict_chunks\"), 1).alias(\"mean_overlapping_chunks\"),\n",
    "    round(stddev($\"conflict_chunks\"), 1).alias(\"std_overlapping_chunks\"),\n",
    "    round(mean($\"conflict_chars\"), 1).alias(\"mean_overlapping_chars\"),\n",
    "    round(stddev($\"conflict_chars\"), 1).alias(\"std_overlapping_chars\")\n",
    "  )\n",
    "  .show()"
   ]
  },
  {
   "cell_type": "code",
   "execution_count": 6,
   "metadata": {},
   "outputs": [
    {
     "name": "stdout",
     "output_type": "stream",
     "text": [
      "+-----------+--------------+-------------+-------------+-------------+\n",
      "|exit_action|mean_elapsed_s|std_elapsed_s|min_elapsed_s|max_elapsed_s|\n",
      "+-----------+--------------+-------------+-------------+-------------+\n",
      "|     cancel|         139.0|        499.0|          -80|         3016|\n",
      "|    unknown|          98.0|        706.0|         -211|        16267|\n",
      "|       save|          86.0|        953.0|        -2876|        25658|\n",
      "+-----------+--------------+-------------+-------------+-------------+\n",
      "\n"
     ]
    }
   ],
   "source": [
    "linked_exits\n",
    "  .filter($\"exit_timestamp\".isNotNull)\n",
    "  .groupBy(\"exit_action\")\n",
    "  .agg(\n",
    "    round(mean($\"elapsed_s\")).alias(\"mean_elapsed_s\"),\n",
    "    round(stddev($\"elapsed_s\")).alias(\"std_elapsed_s\"),\n",
    "    round(min($\"elapsed_s\")).alias(\"min_elapsed_s\"),\n",
    "    round(max($\"elapsed_s\")).alias(\"max_elapsed_s\")\n",
    "  ).show()"
   ]
  }
 ],
 "metadata": {
  "kernelspec": {
   "display_name": "Spark Scala - Local",
   "language": "scala",
   "name": "spark_local_scala"
  },
  "language_info": {
   "codemirror_mode": "text/x-scala",
   "file_extension": ".scala",
   "mimetype": "text/x-scala",
   "name": "scala",
   "pygments_lexer": "scala",
   "version": "2.11.12"
  }
 },
 "nbformat": 4,
 "nbformat_minor": 4
}
