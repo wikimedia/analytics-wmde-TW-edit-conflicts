{
 "cells": [
  {
   "cell_type": "code",
   "execution_count": 1,
   "metadata": {},
   "outputs": [],
   "source": [
    "import org.apache.spark.sql.functions._"
   ]
  },
  {
   "cell_type": "code",
   "execution_count": 2,
   "metadata": {},
   "outputs": [
    {
     "data": {
      "text/plain": [
       "conflicts = [conflict_timestamp: timestamp, wiki: string ... 11 more fields]\n",
       "exits = [exit_timestamp: timestamp, start_time_ts_ms: bigint ... 10 more fields]\n",
       "linked_exits = [conflict_timestamp: timestamp, wiki: string ... 14 more fields]\n"
      ]
     },
     "metadata": {},
     "output_type": "display_data",
     "source": "user"
    },
    {
     "data": {
      "text/plain": [
       "[conflict_timestamp: timestamp, wiki: string ... 14 more fields]"
      ]
     },
     "execution_count": 2,
     "metadata": {},
     "output_type": "execute_result"
    }
   ],
   "source": [
    "val conflicts = spark.read.parquet(\"/user/awight/clean_conflicts\").cache()\n",
    "val exits = spark.read.parquet(\"/user/awight/exits\").cache()\n",
    "val linked_exits = spark.read.parquet(\"/user/awight/linked_exits\").cache()"
   ]
  },
  {
   "cell_type": "code",
   "execution_count": 3,
   "metadata": {},
   "outputs": [
    {
     "name": "stdout",
     "output_type": "stream",
     "text": [
      "+-----------+-----+-------+\n",
      "|exit_action|count|percent|\n",
      "+-----------+-----+-------+\n",
      "|     cancel|   65|    2.9|\n",
      "|    unknown|  961|   43.3|\n",
      "|       save| 1191|   53.7|\n",
      "+-----------+-----+-------+\n",
      "\n"
     ]
    },
    {
     "data": {
      "text/plain": [
       "exit_counts = [exit_action: string, count: bigint]\n"
      ]
     },
     "metadata": {},
     "output_type": "display_data",
     "source": "user"
    },
    {
     "data": {
      "text/plain": [
       "[exit_action: string, count: bigint]"
      ]
     },
     "execution_count": 3,
     "metadata": {},
     "output_type": "execute_result"
    }
   ],
   "source": [
    "val exit_counts = linked_exits.groupBy(\"exit_action\").count()\n",
    "exit_counts\n",
    "  .groupBy(\"exit_action\")\n",
    "  .agg(sum(\"count\").alias(\"count\"))\n",
    "  .withColumn(\"percent\", round(lit(100) * $\"count\" /  sum(\"count\").over(), 1))\n",
    "  .show()"
   ]
  },
  {
   "cell_type": "code",
   "execution_count": 4,
   "metadata": {
    "scrolled": true
   },
   "outputs": [
    {
     "name": "stdout",
     "output_type": "stream",
     "text": [
      "+-------+-----------------+------------------+------------------+\n",
      "|summary|   user_editcount|   conflict_chunks|    conflict_chars|\n",
      "+-------+-----------------+------------------+------------------+\n",
      "|  count|             1902|              1902|              1902|\n",
      "|   mean|33114.45688748686|1.4668769716088328|1060.2917981072555|\n",
      "| stddev|62829.38282481591|1.9352231152078023|  1959.28883584537|\n",
      "|    min|                0|                 1|                 0|\n",
      "|    max|           741811|                30|             22700|\n",
      "+-------+-----------------+------------------+------------------+\n",
      "\n",
      "+-----------+-----+-----------------------+----------------------+----------------------+---------------------+\n",
      "|exit_action|count|mean_overlapping_chunks|std_overlapping_chunks|mean_overlapping_chars|std_overlapping_chars|\n",
      "+-----------+-----+-----------------------+----------------------+----------------------+---------------------+\n",
      "|     cancel|   55|                    1.4|                   1.6|                 646.9|                791.2|\n",
      "|    unknown|  825|                    1.5|                   2.2|                 969.3|               2087.5|\n",
      "|       save| 1022|                    1.5|                   1.7|                1156.0|               1890.1|\n",
      "+-----------+-----+-----------------------+----------------------+----------------------+---------------------+\n",
      "\n"
     ]
    },
    {
     "data": {
      "text/plain": [
       "with_chunks = [conflict_timestamp: timestamp, wiki: string ... 14 more fields]\n"
      ]
     },
     "metadata": {},
     "output_type": "display_data",
     "source": "user"
    },
    {
     "data": {
      "text/plain": [
       "[conflict_timestamp: timestamp, wiki: string ... 14 more fields]"
      ]
     },
     "execution_count": 4,
     "metadata": {},
     "output_type": "execute_result"
    }
   ],
   "source": [
    "val with_chunks = linked_exits.filter($\"conflict_chunks\" > 0)\n",
    "with_chunks.describe(\"user_editcount\", \"conflict_chunks\", \"conflict_chars\").show()\n",
    "with_chunks\n",
    "  .groupBy(\"exit_action\")\n",
    "  .agg(\n",
    "    count($\"*\").alias(\"count\"),\n",
    "    round(mean($\"conflict_chunks\"), 1).alias(\"mean_overlapping_chunks\"),\n",
    "    round(stddev($\"conflict_chunks\"), 1).alias(\"std_overlapping_chunks\"),\n",
    "    round(mean($\"conflict_chars\"), 1).alias(\"mean_overlapping_chars\"),\n",
    "    round(stddev($\"conflict_chars\"), 1).alias(\"std_overlapping_chars\")\n",
    "  )\n",
    "  .show()"
   ]
  },
  {
   "cell_type": "code",
   "execution_count": 5,
   "metadata": {},
   "outputs": [
    {
     "name": "stdout",
     "output_type": "stream",
     "text": [
      "+-----------+--------------+-------------+-------------+-------------+\n",
      "|exit_action|mean_elapsed_s|std_elapsed_s|min_elapsed_s|max_elapsed_s|\n",
      "+-----------+--------------+-------------+-------------+-------------+\n",
      "|     cancel|         116.0|        413.0|          -80|         3016|\n",
      "|    unknown|         100.0|        693.0|        -1248|        16267|\n",
      "|       save|         110.0|        768.0|        -2876|        25658|\n",
      "+-----------+--------------+-------------+-------------+-------------+\n",
      "\n"
     ]
    }
   ],
   "source": [
    "linked_exits\n",
    "  .filter($\"exit_timestamp\".isNotNull)\n",
    "  .groupBy(\"exit_action\")\n",
    "  .agg(\n",
    "    round(mean($\"elapsed_s\")).alias(\"mean_elapsed_s\"),\n",
    "    round(stddev($\"elapsed_s\")).alias(\"std_elapsed_s\"),\n",
    "    round(min($\"elapsed_s\")).alias(\"min_elapsed_s\"),\n",
    "    round(max($\"elapsed_s\")).alias(\"max_elapsed_s\")\n",
    "  ).show()"
   ]
  }
 ],
 "metadata": {
  "kernelspec": {
   "display_name": "Spark Scala - Local",
   "language": "scala",
   "name": "spark_local_scala"
  },
  "language_info": {
   "codemirror_mode": "text/x-scala",
   "file_extension": ".scala",
   "mimetype": "text/x-scala",
   "name": "scala",
   "pygments_lexer": "scala",
   "version": "2.11.12"
  }
 },
 "nbformat": 4,
 "nbformat_minor": 4
}
